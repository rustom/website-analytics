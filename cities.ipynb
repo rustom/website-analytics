{
 "cells": [
  {
   "cell_type": "code",
   "execution_count": 25,
   "metadata": {},
   "outputs": [],
   "source": [
    "import pandas as pd\n",
    "from geopy.geocoders import Nominatim\n",
    "import plotly.express as px"
   ]
  },
  {
   "cell_type": "code",
   "execution_count": 26,
   "metadata": {},
   "outputs": [],
   "source": [
    "df = pd.read_csv('./data-export.csv', skiprows=10, nrows=104)"
   ]
  },
  {
   "cell_type": "code",
   "execution_count": 27,
   "metadata": {},
   "outputs": [
    {
     "data": {
      "text/html": [
       "<div>\n",
       "<style scoped>\n",
       "    .dataframe tbody tr th:only-of-type {\n",
       "        vertical-align: middle;\n",
       "    }\n",
       "\n",
       "    .dataframe tbody tr th {\n",
       "        vertical-align: top;\n",
       "    }\n",
       "\n",
       "    .dataframe thead th {\n",
       "        text-align: right;\n",
       "    }\n",
       "</style>\n",
       "<table border=\"1\" class=\"dataframe\">\n",
       "  <thead>\n",
       "    <tr style=\"text-align: right;\">\n",
       "      <th></th>\n",
       "      <th>City</th>\n",
       "      <th>Users</th>\n",
       "    </tr>\n",
       "  </thead>\n",
       "  <tbody>\n",
       "    <tr>\n",
       "      <th>0</th>\n",
       "      <td>Schaumburg</td>\n",
       "      <td>53</td>\n",
       "    </tr>\n",
       "    <tr>\n",
       "      <th>1</th>\n",
       "      <td>Champaign</td>\n",
       "      <td>40</td>\n",
       "    </tr>\n",
       "    <tr>\n",
       "      <th>2</th>\n",
       "      <td>Urbana</td>\n",
       "      <td>18</td>\n",
       "    </tr>\n",
       "    <tr>\n",
       "      <th>3</th>\n",
       "      <td>Chicago</td>\n",
       "      <td>12</td>\n",
       "    </tr>\n",
       "    <tr>\n",
       "      <th>4</th>\n",
       "      <td>San Francisco</td>\n",
       "      <td>12</td>\n",
       "    </tr>\n",
       "    <tr>\n",
       "      <th>...</th>\n",
       "      <td>...</td>\n",
       "      <td>...</td>\n",
       "    </tr>\n",
       "    <tr>\n",
       "      <th>99</th>\n",
       "      <td>Union Hill-Novelty Hill</td>\n",
       "      <td>1</td>\n",
       "    </tr>\n",
       "    <tr>\n",
       "      <th>100</th>\n",
       "      <td>Uttarpara</td>\n",
       "      <td>1</td>\n",
       "    </tr>\n",
       "    <tr>\n",
       "      <th>101</th>\n",
       "      <td>Wayne</td>\n",
       "      <td>1</td>\n",
       "    </tr>\n",
       "    <tr>\n",
       "      <th>102</th>\n",
       "      <td>West Falls Church</td>\n",
       "      <td>1</td>\n",
       "    </tr>\n",
       "    <tr>\n",
       "      <th>103</th>\n",
       "      <td>West Orange</td>\n",
       "      <td>1</td>\n",
       "    </tr>\n",
       "  </tbody>\n",
       "</table>\n",
       "<p>104 rows × 2 columns</p>\n",
       "</div>"
      ],
      "text/plain": [
       "                        City  Users\n",
       "0                 Schaumburg     53\n",
       "1                  Champaign     40\n",
       "2                     Urbana     18\n",
       "3                    Chicago     12\n",
       "4              San Francisco     12\n",
       "..                       ...    ...\n",
       "99   Union Hill-Novelty Hill      1\n",
       "100                Uttarpara      1\n",
       "101                    Wayne      1\n",
       "102        West Falls Church      1\n",
       "103              West Orange      1\n",
       "\n",
       "[104 rows x 2 columns]"
      ]
     },
     "execution_count": 27,
     "metadata": {},
     "output_type": "execute_result"
    }
   ],
   "source": [
    "df"
   ]
  },
  {
   "cell_type": "code",
   "execution_count": 28,
   "metadata": {},
   "outputs": [],
   "source": [
    "geolocator = Nominatim(user_agent='rustom')"
   ]
  },
  {
   "cell_type": "code",
   "execution_count": 29,
   "metadata": {},
   "outputs": [],
   "source": [
    "df['locations'] = df.City.apply(lambda x: geolocator.geocode(x))"
   ]
  },
  {
   "cell_type": "code",
   "execution_count": 30,
   "metadata": {},
   "outputs": [],
   "source": [
    "df['latitude'] = df.locations.apply(lambda x: x.latitude)\n",
    "df['longitude'] = df.locations.apply(lambda x: x.longitude)\n"
   ]
  },
  {
   "cell_type": "code",
   "execution_count": 40,
   "metadata": {},
   "outputs": [
    {
     "data": {
      "text/html": [
       "<div>\n",
       "<style scoped>\n",
       "    .dataframe tbody tr th:only-of-type {\n",
       "        vertical-align: middle;\n",
       "    }\n",
       "\n",
       "    .dataframe tbody tr th {\n",
       "        vertical-align: top;\n",
       "    }\n",
       "\n",
       "    .dataframe thead th {\n",
       "        text-align: right;\n",
       "    }\n",
       "</style>\n",
       "<table border=\"1\" class=\"dataframe\">\n",
       "  <thead>\n",
       "    <tr style=\"text-align: right;\">\n",
       "      <th></th>\n",
       "      <th>City</th>\n",
       "      <th>Users</th>\n",
       "      <th>locations</th>\n",
       "      <th>latitude</th>\n",
       "      <th>longitude</th>\n",
       "    </tr>\n",
       "  </thead>\n",
       "  <tbody>\n",
       "    <tr>\n",
       "      <th>0</th>\n",
       "      <td>Schaumburg</td>\n",
       "      <td>53</td>\n",
       "      <td>(Schaumburg, Schaumburg Township, Cook County,...</td>\n",
       "      <td>42.033361</td>\n",
       "      <td>-88.083406</td>\n",
       "    </tr>\n",
       "    <tr>\n",
       "      <th>1</th>\n",
       "      <td>Champaign</td>\n",
       "      <td>40</td>\n",
       "      <td>(Champaign, Champaign County, Illinois, United...</td>\n",
       "      <td>40.116484</td>\n",
       "      <td>-88.243093</td>\n",
       "    </tr>\n",
       "    <tr>\n",
       "      <th>2</th>\n",
       "      <td>Urbana</td>\n",
       "      <td>18</td>\n",
       "      <td>(Urbana, Champaign County, Illinois, United St...</td>\n",
       "      <td>40.111717</td>\n",
       "      <td>-88.207301</td>\n",
       "    </tr>\n",
       "    <tr>\n",
       "      <th>3</th>\n",
       "      <td>Chicago</td>\n",
       "      <td>12</td>\n",
       "      <td>(Chicago, Cook County, Illinois, United States...</td>\n",
       "      <td>41.875562</td>\n",
       "      <td>-87.624421</td>\n",
       "    </tr>\n",
       "    <tr>\n",
       "      <th>4</th>\n",
       "      <td>San Francisco</td>\n",
       "      <td>12</td>\n",
       "      <td>(San Francisco, San Francisco City and County,...</td>\n",
       "      <td>37.779026</td>\n",
       "      <td>-122.419906</td>\n",
       "    </tr>\n",
       "    <tr>\n",
       "      <th>...</th>\n",
       "      <td>...</td>\n",
       "      <td>...</td>\n",
       "      <td>...</td>\n",
       "      <td>...</td>\n",
       "      <td>...</td>\n",
       "    </tr>\n",
       "    <tr>\n",
       "      <th>99</th>\n",
       "      <td>Union Hill-Novelty Hill</td>\n",
       "      <td>1</td>\n",
       "      <td>(Union Hill-Novelty Hill, King County, Washing...</td>\n",
       "      <td>47.681563</td>\n",
       "      <td>-122.035054</td>\n",
       "    </tr>\n",
       "    <tr>\n",
       "      <th>100</th>\n",
       "      <td>Uttarpara</td>\n",
       "      <td>1</td>\n",
       "      <td>(Uttarpara, Kanthanbangan Bazar Road, Uttarpar...</td>\n",
       "      <td>22.667046</td>\n",
       "      <td>88.341146</td>\n",
       "    </tr>\n",
       "    <tr>\n",
       "      <th>101</th>\n",
       "      <td>Wayne</td>\n",
       "      <td>1</td>\n",
       "      <td>(Wayne County, Illinois, United States, (38.42...</td>\n",
       "      <td>38.425196</td>\n",
       "      <td>-88.419768</td>\n",
       "    </tr>\n",
       "    <tr>\n",
       "      <th>102</th>\n",
       "      <td>West Falls Church</td>\n",
       "      <td>1</td>\n",
       "      <td>(West Falls Church, Falls Church, Fairfax Coun...</td>\n",
       "      <td>38.862918</td>\n",
       "      <td>-77.188249</td>\n",
       "    </tr>\n",
       "    <tr>\n",
       "      <th>103</th>\n",
       "      <td>West Orange</td>\n",
       "      <td>1</td>\n",
       "      <td>(West Orange, Essex County, New Jersey, 07052,...</td>\n",
       "      <td>40.798711</td>\n",
       "      <td>-74.239035</td>\n",
       "    </tr>\n",
       "  </tbody>\n",
       "</table>\n",
       "<p>104 rows × 5 columns</p>\n",
       "</div>"
      ],
      "text/plain": [
       "                        City  Users  \\\n",
       "0                 Schaumburg     53   \n",
       "1                  Champaign     40   \n",
       "2                     Urbana     18   \n",
       "3                    Chicago     12   \n",
       "4              San Francisco     12   \n",
       "..                       ...    ...   \n",
       "99   Union Hill-Novelty Hill      1   \n",
       "100                Uttarpara      1   \n",
       "101                    Wayne      1   \n",
       "102        West Falls Church      1   \n",
       "103              West Orange      1   \n",
       "\n",
       "                                             locations   latitude   longitude  \n",
       "0    (Schaumburg, Schaumburg Township, Cook County,...  42.033361  -88.083406  \n",
       "1    (Champaign, Champaign County, Illinois, United...  40.116484  -88.243093  \n",
       "2    (Urbana, Champaign County, Illinois, United St...  40.111717  -88.207301  \n",
       "3    (Chicago, Cook County, Illinois, United States...  41.875562  -87.624421  \n",
       "4    (San Francisco, San Francisco City and County,...  37.779026 -122.419906  \n",
       "..                                                 ...        ...         ...  \n",
       "99   (Union Hill-Novelty Hill, King County, Washing...  47.681563 -122.035054  \n",
       "100  (Uttarpara, Kanthanbangan Bazar Road, Uttarpar...  22.667046   88.341146  \n",
       "101  (Wayne County, Illinois, United States, (38.42...  38.425196  -88.419768  \n",
       "102  (West Falls Church, Falls Church, Fairfax Coun...  38.862918  -77.188249  \n",
       "103  (West Orange, Essex County, New Jersey, 07052,...  40.798711  -74.239035  \n",
       "\n",
       "[104 rows x 5 columns]"
      ]
     },
     "execution_count": 40,
     "metadata": {},
     "output_type": "execute_result"
    }
   ],
   "source": [
    "df"
   ]
  },
  {
   "cell_type": "code",
   "execution_count": 59,
   "metadata": {},
   "outputs": [
    {
     "data": {
      "application/vnd.plotly.v1+json": {
       "config": {
        "plotlyServerURL": "https://plot.ly"
       },
       "data": [
        {
         "geo": "geo",
         "hovertemplate": "<b>%{hovertext}</b><br><br>size=%{marker.size}<br>lat=%{lat}<br>lon=%{lon}<extra></extra>",
         "hovertext": [
          "Schaumburg",
          "Champaign",
          "Urbana",
          "Chicago",
          "San Francisco",
          "Ashburn",
          "Los Angeles",
          "New York",
          "Shanghai",
          "Atlanta",
          "Columbus",
          "San Jose",
          "Cary",
          "Dallas",
          "Roseville",
          "Toronto",
          "Washington",
          "Zhengzhou",
          "Bartlett",
          "Boardman",
          "Cupertino",
          "Denver",
          "Des Moines",
          "Elk Grove Village",
          "Hangzhou",
          "Kuta Selatan",
          "Lake Zurich",
          "Los Altos",
          "Menlo Park",
          "Pittsburgh",
          "Richmond Hill",
          "San Antonio",
          "Seattle",
          "Sugar Grove",
          "Wilmette",
          "Altoona",
          "Arlington Heights",
          "Balashikha",
          "Barrington",
          "Bellevue",
          "Belvidere",
          "Boydton",
          "Burlington",
          "Crystal Lake",
          "Dakar",
          "Des Plaines",
          "Doha",
          "Dublin",
          "Fayetteville",
          "Forest City",
          "Frankfort",
          "Gainesville",
          "Gibsons",
          "Guwahati",
          "Hackensack",
          "Hawthorne",
          "Houston",
          "Hudson",
          "Hyderabad",
          "Jaipur",
          "Joliet",
          "Juriquilla",
          "Kampala",
          "Kochi",
          "Kuala Lumpur",
          "Lake Forest",
          "Lisle",
          "London",
          "Medford",
          "Milwaukee",
          "Monterrey",
          "Montreal",
          "Morgantown",
          "Morton",
          "Mumbai",
          "Normal",
          "North Brunswick Township",
          "North Hampton",
          "North New Hyde Park",
          "Pekanbaru",
          "Pekin",
          "Petrosani",
          "Potomac",
          "Princeton",
          "Prineville",
          "Quincy",
          "Rowland Heights",
          "Shorewood",
          "Shumen",
          "Sofia",
          "South Barrington",
          "South Miami",
          "St. Louis",
          "Streamwood",
          "Targoviste",
          "Tarlac City",
          "Teixeira de Freitas",
          "Tinley Park",
          "Tucson",
          "Union Hill-Novelty Hill",
          "Uttarpara",
          "Wayne",
          "West Falls Church",
          "West Orange"
         ],
         "lat": [
          42.0333608,
          40.1164841,
          40.1117174,
          41.8755616,
          37.7790262,
          39.030019100000004,
          34.0536909,
          40.7127281,
          31.2322758,
          33.7489924,
          39.9622601,
          37.3361905,
          35.7882893,
          32.7762719,
          38.7521235,
          43.6534817,
          38.8949924,
          34.7487244,
          41.9908485,
          45.839855,
          37.3228934,
          39.7392364,
          41.5910323,
          42.0041236,
          30.2489634,
          -8.80884895,
          42.1969689,
          42.7811566,
          37.4519671,
          40.4416941,
          43.880078,
          29.4246002,
          47.6038321,
          41.7614181,
          42.0757315,
          40.518681,
          42.0811563,
          55.8036225,
          42.1539141,
          47.6144219,
          42.2579991,
          36.6676446,
          44.4761601,
          42.2411344,
          14.693425,
          42.0415823,
          25.2856329,
          53.3497645,
          36.0625843,
          43.2624559,
          50.1106444,
          29.6519684,
          49.4006197,
          26.1805978,
          40.8871438,
          33.9188589,
          29.7589382,
          42.7654433,
          17.360589,
          26.9154576,
          41.5263603,
          20.7125923,
          0.3177137,
          9.931308,
          3.1516964,
          42.2586342,
          45.2787444,
          51.5073219,
          42.4184296,
          43.0349931,
          25.6802019,
          45.5031824,
          39.6296809,
          37.1960735,
          19.0759899,
          40.5092866,
          40.445601350000004,
          42.9725895,
          40.7442375,
          0.5262455,
          39.906217,
          45.4143907,
          39.0180508,
          40.3492744,
          44.2998261,
          42.2509914,
          33.9761238,
          44.9007963,
          43.2703797,
          -15.2538402,
          42.088522,
          25.7076017,
          38.6529545,
          42.0255827,
          44.9267709,
          15.485997,
          -17.5376644,
          41.5733669,
          32.2228765,
          47.681563249999996,
          22.6670459,
          38.4251958,
          38.8629185,
          40.7987113
         ],
         "legendgroup": "",
         "lon": [
          -88.083406,
          -88.2430932,
          -88.207301,
          -87.6244212,
          -122.419906,
          -77.46964646557657,
          -118.242766,
          -74.0060152,
          121.4692071,
          -84.3902644,
          -83.0007065,
          -121.890583,
          -78.7812081,
          -96.7968559,
          -121.2880059,
          -79.3839347,
          -77.0365581,
          113.6191483,
          -88.1850028,
          -119.7005834,
          -122.0322895,
          -104.9848623,
          -93.6046655,
          -87.9706457,
          120.2052342,
          115.16952784207646,
          -88.0934108,
          -3.620209626541331,
          -122.1779927,
          -79.9900861,
          -79.439392,
          -98.4951405,
          -122.3300624,
          -88.443686,
          -87.7193768,
          -78.394736,
          -87.9802164,
          37.9646488,
          -88.1361888,
          -122.192337,
          -88.841734,
          -78.3875054,
          -73.212906,
          -88.3161965,
          -17.447938,
          -87.8873916,
          51.5264162,
          -6.2602732,
          -94.1574328,
          -93.6371591,
          8.6820917,
          -82.3249846,
          -123.5089186,
          91.753943,
          -74.0410865,
          -118.3483256,
          -95.3676974,
          -71.4397167,
          78.4740613,
          75.8189817,
          -88.0840212,
          -100.458387,
          32.5813539,
          76.2674136,
          101.6942371,
          -87.840625,
          0.5481384,
          -0.1276474,
          -71.1061639,
          -87.922497,
          -100.315258,
          -73.5698065,
          -79.9559437,
          -101.8099541,
          72.8773928,
          -88.9843795,
          -74.48929600038443,
          -70.8297757,
          -73.6862241594223,
          101.4515727,
          116.3912757,
          23.3740904,
          -77.1956331355745,
          -74.6592958,
          -120.834972,
          -71.0037374,
          -117.905339,
          -93.5891242,
          26.9247362,
          48.2562163,
          -88.14840371084922,
          -80.2933846,
          -90.24111656024635,
          -88.1784085,
          25.462816,
          120.589556,
          -39.7458096,
          -87.7844944,
          -110.9748477,
          -122.03505389437154,
          88.3411458,
          -88.4197678,
          -77.18824898319328,
          -74.2390353
         ],
         "marker": {
          "color": "#636efa",
          "size": [
           53,
           40,
           18,
           12,
           12,
           6,
           5,
           5,
           5,
           4,
           4,
           4,
           3,
           3,
           3,
           3,
           3,
           3,
           2,
           2,
           2,
           2,
           2,
           2,
           2,
           2,
           2,
           2,
           2,
           2,
           2,
           2,
           2,
           2,
           2,
           1,
           1,
           1,
           1,
           1,
           1,
           1,
           1,
           1,
           1,
           1,
           1,
           1,
           1,
           1,
           1,
           1,
           1,
           1,
           1,
           1,
           1,
           1,
           1,
           1,
           1,
           1,
           1,
           1,
           1,
           1,
           1,
           1,
           1,
           1,
           1,
           1,
           1,
           1,
           1,
           1,
           1,
           1,
           1,
           1,
           1,
           1,
           1,
           1,
           1,
           1,
           1,
           1,
           1,
           1,
           1,
           1,
           1,
           1,
           1,
           1,
           1,
           1,
           1,
           1,
           1,
           1,
           1,
           1
          ],
          "sizemode": "area",
          "sizeref": 0.014722222222222222,
          "symbol": "circle"
         },
         "mode": "markers",
         "name": "",
         "showlegend": false,
         "type": "scattergeo"
        }
       ],
       "layout": {
        "geo": {
         "center": {},
         "domain": {
          "x": [
           0,
           1
          ],
          "y": [
           0,
           1
          ]
         }
        },
        "height": 1000,
        "legend": {
         "itemsizing": "constant",
         "tracegroupgap": 0
        },
        "margin": {
         "t": 60
        },
        "template": {
         "data": {
          "bar": [
           {
            "error_x": {
             "color": "#f2f5fa"
            },
            "error_y": {
             "color": "#f2f5fa"
            },
            "marker": {
             "line": {
              "color": "rgb(17,17,17)",
              "width": 0.5
             },
             "pattern": {
              "fillmode": "overlay",
              "size": 10,
              "solidity": 0.2
             }
            },
            "type": "bar"
           }
          ],
          "barpolar": [
           {
            "marker": {
             "line": {
              "color": "rgb(17,17,17)",
              "width": 0.5
             },
             "pattern": {
              "fillmode": "overlay",
              "size": 10,
              "solidity": 0.2
             }
            },
            "type": "barpolar"
           }
          ],
          "carpet": [
           {
            "aaxis": {
             "endlinecolor": "#A2B1C6",
             "gridcolor": "#506784",
             "linecolor": "#506784",
             "minorgridcolor": "#506784",
             "startlinecolor": "#A2B1C6"
            },
            "baxis": {
             "endlinecolor": "#A2B1C6",
             "gridcolor": "#506784",
             "linecolor": "#506784",
             "minorgridcolor": "#506784",
             "startlinecolor": "#A2B1C6"
            },
            "type": "carpet"
           }
          ],
          "choropleth": [
           {
            "colorbar": {
             "outlinewidth": 0,
             "ticks": ""
            },
            "type": "choropleth"
           }
          ],
          "contour": [
           {
            "colorbar": {
             "outlinewidth": 0,
             "ticks": ""
            },
            "colorscale": [
             [
              0,
              "#0d0887"
             ],
             [
              0.1111111111111111,
              "#46039f"
             ],
             [
              0.2222222222222222,
              "#7201a8"
             ],
             [
              0.3333333333333333,
              "#9c179e"
             ],
             [
              0.4444444444444444,
              "#bd3786"
             ],
             [
              0.5555555555555556,
              "#d8576b"
             ],
             [
              0.6666666666666666,
              "#ed7953"
             ],
             [
              0.7777777777777778,
              "#fb9f3a"
             ],
             [
              0.8888888888888888,
              "#fdca26"
             ],
             [
              1,
              "#f0f921"
             ]
            ],
            "type": "contour"
           }
          ],
          "contourcarpet": [
           {
            "colorbar": {
             "outlinewidth": 0,
             "ticks": ""
            },
            "type": "contourcarpet"
           }
          ],
          "heatmap": [
           {
            "colorbar": {
             "outlinewidth": 0,
             "ticks": ""
            },
            "colorscale": [
             [
              0,
              "#0d0887"
             ],
             [
              0.1111111111111111,
              "#46039f"
             ],
             [
              0.2222222222222222,
              "#7201a8"
             ],
             [
              0.3333333333333333,
              "#9c179e"
             ],
             [
              0.4444444444444444,
              "#bd3786"
             ],
             [
              0.5555555555555556,
              "#d8576b"
             ],
             [
              0.6666666666666666,
              "#ed7953"
             ],
             [
              0.7777777777777778,
              "#fb9f3a"
             ],
             [
              0.8888888888888888,
              "#fdca26"
             ],
             [
              1,
              "#f0f921"
             ]
            ],
            "type": "heatmap"
           }
          ],
          "heatmapgl": [
           {
            "colorbar": {
             "outlinewidth": 0,
             "ticks": ""
            },
            "colorscale": [
             [
              0,
              "#0d0887"
             ],
             [
              0.1111111111111111,
              "#46039f"
             ],
             [
              0.2222222222222222,
              "#7201a8"
             ],
             [
              0.3333333333333333,
              "#9c179e"
             ],
             [
              0.4444444444444444,
              "#bd3786"
             ],
             [
              0.5555555555555556,
              "#d8576b"
             ],
             [
              0.6666666666666666,
              "#ed7953"
             ],
             [
              0.7777777777777778,
              "#fb9f3a"
             ],
             [
              0.8888888888888888,
              "#fdca26"
             ],
             [
              1,
              "#f0f921"
             ]
            ],
            "type": "heatmapgl"
           }
          ],
          "histogram": [
           {
            "marker": {
             "pattern": {
              "fillmode": "overlay",
              "size": 10,
              "solidity": 0.2
             }
            },
            "type": "histogram"
           }
          ],
          "histogram2d": [
           {
            "colorbar": {
             "outlinewidth": 0,
             "ticks": ""
            },
            "colorscale": [
             [
              0,
              "#0d0887"
             ],
             [
              0.1111111111111111,
              "#46039f"
             ],
             [
              0.2222222222222222,
              "#7201a8"
             ],
             [
              0.3333333333333333,
              "#9c179e"
             ],
             [
              0.4444444444444444,
              "#bd3786"
             ],
             [
              0.5555555555555556,
              "#d8576b"
             ],
             [
              0.6666666666666666,
              "#ed7953"
             ],
             [
              0.7777777777777778,
              "#fb9f3a"
             ],
             [
              0.8888888888888888,
              "#fdca26"
             ],
             [
              1,
              "#f0f921"
             ]
            ],
            "type": "histogram2d"
           }
          ],
          "histogram2dcontour": [
           {
            "colorbar": {
             "outlinewidth": 0,
             "ticks": ""
            },
            "colorscale": [
             [
              0,
              "#0d0887"
             ],
             [
              0.1111111111111111,
              "#46039f"
             ],
             [
              0.2222222222222222,
              "#7201a8"
             ],
             [
              0.3333333333333333,
              "#9c179e"
             ],
             [
              0.4444444444444444,
              "#bd3786"
             ],
             [
              0.5555555555555556,
              "#d8576b"
             ],
             [
              0.6666666666666666,
              "#ed7953"
             ],
             [
              0.7777777777777778,
              "#fb9f3a"
             ],
             [
              0.8888888888888888,
              "#fdca26"
             ],
             [
              1,
              "#f0f921"
             ]
            ],
            "type": "histogram2dcontour"
           }
          ],
          "mesh3d": [
           {
            "colorbar": {
             "outlinewidth": 0,
             "ticks": ""
            },
            "type": "mesh3d"
           }
          ],
          "parcoords": [
           {
            "line": {
             "colorbar": {
              "outlinewidth": 0,
              "ticks": ""
             }
            },
            "type": "parcoords"
           }
          ],
          "pie": [
           {
            "automargin": true,
            "type": "pie"
           }
          ],
          "scatter": [
           {
            "marker": {
             "line": {
              "color": "#283442"
             }
            },
            "type": "scatter"
           }
          ],
          "scatter3d": [
           {
            "line": {
             "colorbar": {
              "outlinewidth": 0,
              "ticks": ""
             }
            },
            "marker": {
             "colorbar": {
              "outlinewidth": 0,
              "ticks": ""
             }
            },
            "type": "scatter3d"
           }
          ],
          "scattercarpet": [
           {
            "marker": {
             "colorbar": {
              "outlinewidth": 0,
              "ticks": ""
             }
            },
            "type": "scattercarpet"
           }
          ],
          "scattergeo": [
           {
            "marker": {
             "colorbar": {
              "outlinewidth": 0,
              "ticks": ""
             }
            },
            "type": "scattergeo"
           }
          ],
          "scattergl": [
           {
            "marker": {
             "line": {
              "color": "#283442"
             }
            },
            "type": "scattergl"
           }
          ],
          "scattermapbox": [
           {
            "marker": {
             "colorbar": {
              "outlinewidth": 0,
              "ticks": ""
             }
            },
            "type": "scattermapbox"
           }
          ],
          "scatterpolar": [
           {
            "marker": {
             "colorbar": {
              "outlinewidth": 0,
              "ticks": ""
             }
            },
            "type": "scatterpolar"
           }
          ],
          "scatterpolargl": [
           {
            "marker": {
             "colorbar": {
              "outlinewidth": 0,
              "ticks": ""
             }
            },
            "type": "scatterpolargl"
           }
          ],
          "scatterternary": [
           {
            "marker": {
             "colorbar": {
              "outlinewidth": 0,
              "ticks": ""
             }
            },
            "type": "scatterternary"
           }
          ],
          "surface": [
           {
            "colorbar": {
             "outlinewidth": 0,
             "ticks": ""
            },
            "colorscale": [
             [
              0,
              "#0d0887"
             ],
             [
              0.1111111111111111,
              "#46039f"
             ],
             [
              0.2222222222222222,
              "#7201a8"
             ],
             [
              0.3333333333333333,
              "#9c179e"
             ],
             [
              0.4444444444444444,
              "#bd3786"
             ],
             [
              0.5555555555555556,
              "#d8576b"
             ],
             [
              0.6666666666666666,
              "#ed7953"
             ],
             [
              0.7777777777777778,
              "#fb9f3a"
             ],
             [
              0.8888888888888888,
              "#fdca26"
             ],
             [
              1,
              "#f0f921"
             ]
            ],
            "type": "surface"
           }
          ],
          "table": [
           {
            "cells": {
             "fill": {
              "color": "#506784"
             },
             "line": {
              "color": "rgb(17,17,17)"
             }
            },
            "header": {
             "fill": {
              "color": "#2a3f5f"
             },
             "line": {
              "color": "rgb(17,17,17)"
             }
            },
            "type": "table"
           }
          ]
         },
         "layout": {
          "annotationdefaults": {
           "arrowcolor": "#f2f5fa",
           "arrowhead": 0,
           "arrowwidth": 1
          },
          "autotypenumbers": "strict",
          "coloraxis": {
           "colorbar": {
            "outlinewidth": 0,
            "ticks": ""
           }
          },
          "colorscale": {
           "diverging": [
            [
             0,
             "#8e0152"
            ],
            [
             0.1,
             "#c51b7d"
            ],
            [
             0.2,
             "#de77ae"
            ],
            [
             0.3,
             "#f1b6da"
            ],
            [
             0.4,
             "#fde0ef"
            ],
            [
             0.5,
             "#f7f7f7"
            ],
            [
             0.6,
             "#e6f5d0"
            ],
            [
             0.7,
             "#b8e186"
            ],
            [
             0.8,
             "#7fbc41"
            ],
            [
             0.9,
             "#4d9221"
            ],
            [
             1,
             "#276419"
            ]
           ],
           "sequential": [
            [
             0,
             "#0d0887"
            ],
            [
             0.1111111111111111,
             "#46039f"
            ],
            [
             0.2222222222222222,
             "#7201a8"
            ],
            [
             0.3333333333333333,
             "#9c179e"
            ],
            [
             0.4444444444444444,
             "#bd3786"
            ],
            [
             0.5555555555555556,
             "#d8576b"
            ],
            [
             0.6666666666666666,
             "#ed7953"
            ],
            [
             0.7777777777777778,
             "#fb9f3a"
            ],
            [
             0.8888888888888888,
             "#fdca26"
            ],
            [
             1,
             "#f0f921"
            ]
           ],
           "sequentialminus": [
            [
             0,
             "#0d0887"
            ],
            [
             0.1111111111111111,
             "#46039f"
            ],
            [
             0.2222222222222222,
             "#7201a8"
            ],
            [
             0.3333333333333333,
             "#9c179e"
            ],
            [
             0.4444444444444444,
             "#bd3786"
            ],
            [
             0.5555555555555556,
             "#d8576b"
            ],
            [
             0.6666666666666666,
             "#ed7953"
            ],
            [
             0.7777777777777778,
             "#fb9f3a"
            ],
            [
             0.8888888888888888,
             "#fdca26"
            ],
            [
             1,
             "#f0f921"
            ]
           ]
          },
          "colorway": [
           "#636efa",
           "#EF553B",
           "#00cc96",
           "#ab63fa",
           "#FFA15A",
           "#19d3f3",
           "#FF6692",
           "#B6E880",
           "#FF97FF",
           "#FECB52"
          ],
          "font": {
           "color": "#f2f5fa"
          },
          "geo": {
           "bgcolor": "rgb(17,17,17)",
           "lakecolor": "rgb(17,17,17)",
           "landcolor": "rgb(17,17,17)",
           "showlakes": true,
           "showland": true,
           "subunitcolor": "#506784"
          },
          "hoverlabel": {
           "align": "left"
          },
          "hovermode": "closest",
          "mapbox": {
           "style": "dark"
          },
          "paper_bgcolor": "rgb(17,17,17)",
          "plot_bgcolor": "rgb(17,17,17)",
          "polar": {
           "angularaxis": {
            "gridcolor": "#506784",
            "linecolor": "#506784",
            "ticks": ""
           },
           "bgcolor": "rgb(17,17,17)",
           "radialaxis": {
            "gridcolor": "#506784",
            "linecolor": "#506784",
            "ticks": ""
           }
          },
          "scene": {
           "xaxis": {
            "backgroundcolor": "rgb(17,17,17)",
            "gridcolor": "#506784",
            "gridwidth": 2,
            "linecolor": "#506784",
            "showbackground": true,
            "ticks": "",
            "zerolinecolor": "#C8D4E3"
           },
           "yaxis": {
            "backgroundcolor": "rgb(17,17,17)",
            "gridcolor": "#506784",
            "gridwidth": 2,
            "linecolor": "#506784",
            "showbackground": true,
            "ticks": "",
            "zerolinecolor": "#C8D4E3"
           },
           "zaxis": {
            "backgroundcolor": "rgb(17,17,17)",
            "gridcolor": "#506784",
            "gridwidth": 2,
            "linecolor": "#506784",
            "showbackground": true,
            "ticks": "",
            "zerolinecolor": "#C8D4E3"
           }
          },
          "shapedefaults": {
           "line": {
            "color": "#f2f5fa"
           }
          },
          "sliderdefaults": {
           "bgcolor": "#C8D4E3",
           "bordercolor": "rgb(17,17,17)",
           "borderwidth": 1,
           "tickwidth": 0
          },
          "ternary": {
           "aaxis": {
            "gridcolor": "#506784",
            "linecolor": "#506784",
            "ticks": ""
           },
           "baxis": {
            "gridcolor": "#506784",
            "linecolor": "#506784",
            "ticks": ""
           },
           "bgcolor": "rgb(17,17,17)",
           "caxis": {
            "gridcolor": "#506784",
            "linecolor": "#506784",
            "ticks": ""
           }
          },
          "title": {
           "x": 0.05
          },
          "updatemenudefaults": {
           "bgcolor": "#506784",
           "borderwidth": 0
          },
          "xaxis": {
           "automargin": true,
           "gridcolor": "#283442",
           "linecolor": "#506784",
           "ticks": "",
           "title": {
            "standoff": 15
           },
           "zerolinecolor": "#283442",
           "zerolinewidth": 2
          },
          "yaxis": {
           "automargin": true,
           "gridcolor": "#283442",
           "linecolor": "#506784",
           "ticks": "",
           "title": {
            "standoff": 15
           },
           "zerolinecolor": "#283442",
           "zerolinewidth": 2
          }
         }
        },
        "width": 1500
       }
      }
     },
     "metadata": {},
     "output_type": "display_data"
    }
   ],
   "source": [
    "fig = px.scatter_geo(lat=df['latitude'], lon=df['longitude'], hover_name=df.City, width=1500, height=1000, size=df.Users, size_max=60, template='plotly_dark', labels=df['Users'])\n",
    "# fig.update_traces(marker=dict(size=10))\n",
    "fig.show()"
   ]
  },
  {
   "cell_type": "code",
   "execution_count": 51,
   "metadata": {},
   "outputs": [
    {
     "data": {
      "text/plain": [
       "289"
      ]
     },
     "execution_count": 51,
     "metadata": {},
     "output_type": "execute_result"
    }
   ],
   "source": [
    "df.Users.sum()"
   ]
  },
  {
   "cell_type": "code",
   "execution_count": null,
   "metadata": {},
   "outputs": [],
   "source": []
  }
 ],
 "metadata": {
  "interpreter": {
   "hash": "9b0bee1d2004e17952c6ef238ff74e36f8786ffb1ba3a51a4bdde83bf6a72541"
  },
  "kernelspec": {
   "display_name": "Python 3.8.5 64-bit ('base': conda)",
   "name": "python3"
  },
  "language_info": {
   "codemirror_mode": {
    "name": "ipython",
    "version": 3
   },
   "file_extension": ".py",
   "mimetype": "text/x-python",
   "name": "python",
   "nbconvert_exporter": "python",
   "pygments_lexer": "ipython3",
   "version": "3.8.5"
  },
  "orig_nbformat": 4
 },
 "nbformat": 4,
 "nbformat_minor": 2
}
